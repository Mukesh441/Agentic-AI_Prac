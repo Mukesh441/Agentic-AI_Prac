{
 "cells": [
  {
   "cell_type": "code",
   "execution_count": 1,
   "id": "b504e271",
   "metadata": {},
   "outputs": [],
   "source": [
    "from langchain_community.tools import WikipediaQueryRun\n"
   ]
  },
  {
   "cell_type": "code",
   "execution_count": 2,
   "id": "22fbfbec",
   "metadata": {},
   "outputs": [],
   "source": [
    "from langchain_community.utilities import WikipediaAPIWrapper"
   ]
  },
  {
   "cell_type": "code",
   "execution_count": 3,
   "id": "ee0f5cf4",
   "metadata": {},
   "outputs": [],
   "source": [
    "api_wrapper = WikipediaAPIWrapper(top_k_results=5,doc_content_chars_max=500)"
   ]
  },
  {
   "cell_type": "code",
   "execution_count": 4,
   "id": "fac19f10",
   "metadata": {},
   "outputs": [],
   "source": [
    "wikitool=WikipediaQueryRun(\n",
    "    api_wrapper=api_wrapper)"
   ]
  },
  {
   "cell_type": "code",
   "execution_count": 5,
   "id": "56ad3eb3",
   "metadata": {},
   "outputs": [
    {
     "data": {
      "text/plain": [
       "{'query': {'description': 'query to look up on wikipedia',\n",
       "  'title': 'Query',\n",
       "  'type': 'string'}}"
      ]
     },
     "execution_count": 5,
     "metadata": {},
     "output_type": "execute_result"
    }
   ],
   "source": [
    "wikitool.args"
   ]
  },
  {
   "cell_type": "code",
   "execution_count": 6,
   "id": "cc4fe00e",
   "metadata": {},
   "outputs": [
    {
     "data": {
      "text/plain": [
       "'Page: Milvus (vector database)\\nSummary: Milvus is a distributed vector database developed by Zilliz. It is available as both open-source software and a cloud service.\\nMilvus is an open-source project under LF AI & Data Foundation distributed under the Apache License 2.0.\\n\\nPage: Markov chain\\nSummary: In probability theory and statistics, a Markov chain or Markov process is a stochastic process describing a sequence of possible events in which the probability of each event depends only on the stat'"
      ]
     },
     "execution_count": 6,
     "metadata": {},
     "output_type": "execute_result"
    }
   ],
   "source": [
    "wikitool.run(\"What is LangChain?\")"
   ]
  },
  {
   "cell_type": "code",
   "execution_count": 7,
   "id": "59da5f03",
   "metadata": {},
   "outputs": [],
   "source": [
    "from langchain_community.tools import YouTubeSearchTool"
   ]
  },
  {
   "cell_type": "code",
   "execution_count": 8,
   "id": "b00fcb3a",
   "metadata": {},
   "outputs": [],
   "source": [
    "Youtube_Tool = YouTubeSearchTool()"
   ]
  },
  {
   "cell_type": "code",
   "execution_count": 9,
   "id": "44147fef",
   "metadata": {},
   "outputs": [
    {
     "data": {
      "text/plain": [
       "{'query': {'title': 'Query', 'type': 'string'}}"
      ]
     },
     "execution_count": 9,
     "metadata": {},
     "output_type": "execute_result"
    }
   ],
   "source": [
    "Youtube_Tool.args"
   ]
  },
  {
   "cell_type": "code",
   "execution_count": 10,
   "id": "4fe30b09",
   "metadata": {},
   "outputs": [
    {
     "data": {
      "text/plain": [
       "\"['https://www.youtube.com/watch?v=1bUy-1hGZpI&pp=ygUSV2hhdCBpcyBMYW5nQ2hhaW4_', 'https://www.youtube.com/watch?v=3PM4A8OM7I8&pp=ygUSV2hhdCBpcyBMYW5nQ2hhaW4_']\""
      ]
     },
     "execution_count": 10,
     "metadata": {},
     "output_type": "execute_result"
    }
   ],
   "source": [
    "Youtube_Tool.run(\"What is LangChain?\")"
   ]
  },
  {
   "cell_type": "code",
   "execution_count": 11,
   "id": "a7815828",
   "metadata": {},
   "outputs": [
    {
     "data": {
      "text/plain": [
       "True"
      ]
     },
     "execution_count": 11,
     "metadata": {},
     "output_type": "execute_result"
    }
   ],
   "source": [
    "import os\n",
    "from dotenv import load_dotenv\n",
    "load_dotenv()"
   ]
  },
  {
   "cell_type": "code",
   "execution_count": 12,
   "id": "b109a2d8",
   "metadata": {},
   "outputs": [],
   "source": [
    "os.environ['TAVILY_API_KEY']=os.getenv(\"TAVILY_API_KEY\")"
   ]
  },
  {
   "cell_type": "code",
   "execution_count": 13,
   "id": "8a26eeea",
   "metadata": {},
   "outputs": [],
   "source": [
    "from langchain_community.tools.tavily_search import TavilySearchResults\n",
    "tavily_search = TavilySearchResults()"
   ]
  },
  {
   "cell_type": "code",
   "execution_count": 14,
   "id": "589b01fc",
   "metadata": {},
   "outputs": [
    {
     "data": {
      "text/plain": [
       "{'query': {'description': 'search query to look up',\n",
       "  'title': 'Query',\n",
       "  'type': 'string'}}"
      ]
     },
     "execution_count": 14,
     "metadata": {},
     "output_type": "execute_result"
    }
   ],
   "source": [
    "tavily_search.args"
   ]
  },
  {
   "cell_type": "code",
   "execution_count": 15,
   "id": "34db9615",
   "metadata": {},
   "outputs": [
    {
     "data": {
      "text/plain": [
       "[{'title': 'Kotak Mahindra Bank Stock Price Today | NSE: KTKM Live',\n",
       "  'url': 'https://www.investing.com/equities/kotak-mahindra-bank',\n",
       "  'content': '[-](https://www.investing.com/pro/NSEI:KOTAKBANK/explorer/gp_margin)\\n\\nPrice/Book\\n\\n[2.62](https://www.investing.com/pro/NSEI:KOTAKBANK/explorer/price_to_book)\\n\\nEBITDA\\n\\n[-](https://www.investing.com/pro/NSEI:KOTAKBANK/explorer/ebitda)\\n\\nEV/EBITDA\\n\\n[-](https://www.investing.com/pro/NSEI:KOTAKBANK/explorer/ev_to_ebitda_ltm)\\n\\nBeta\\n\\n[0.42](https://www.investing.com/pro/NSEI:KOTAKBANK/explorer/beta \"Beta\")\\n\\nBook Value / Share\\n\\n[792.11](https://www.investing.com/pro/NSEI:KOTAKBANK/explorer/bv_share) [...] Book Value / Share\\n\\n[792.11](https://www.investing.com/pro/NSEI:KOTAKBANK/explorer/bv_share)\\n\\nISIN INE237A01028\\n\\n[More metrics for KTKM](https://www.investing.com/pro/NSEI:KOTAKBANK/explorer)\\n\\nShow More\\n\\nBid/Ask 2,077.30 / 2,078.90\\n\\nPrev. Close\\n\\n2,081.6\\n\\nOpen\\n\\n2,081.6\\n\\nDay\\'s Range 2,065.5-2,090.2\\n\\n52 wk Range 1,602.45-2,301.9\\n\\nVolume\\n\\n9.81 M\\n\\nAverage Vol. (3m)\\n\\n[4.41 M](https://www.investing.com/pro/NSEI:KOTAKBANK/explorer/volume_avg_3m)\\n\\n1-Year Change [...] [Unlock Value](https://www.investing.com/pro/pricing/?entry=fair_value_header_widget&backTo=/equities/kotak-mahindra-bank&)\\n\\nDay\\'s Range\\n\\n2,065.50 2,090.20\\n\\n52 wk Range\\n\\n1,602.45 2,301.90\\n\\nKey Statistics\\n\\nEdit\\n\\n[More metrics for KTKM](https://www.investing.com/pro/NSEI:KOTAKBANK/explorer)\\n\\nBid/Ask 2,077.30 / 2,078.90\\n\\nPrev. Close\\n\\n2,081.6\\n\\nOpen\\n\\n2,081.6\\n\\nDay\\'s Range 2,065.5-2,090.2\\n\\n52 wk Range 1,602.45-2,301.9\\n\\nVolume\\n\\n9.81 M\\n\\nAverage Vol. (3m)',\n",
       "  'score': 0.8963332},\n",
       " {'title': 'Kotak Mahindra Bank Ltd.',\n",
       "  'url': 'https://www.tradingview.com/symbols/NSE-KOTAKBANK/',\n",
       "  'content': 'The current price of KOTAKBANK is 2,162.60 INR — it has increased by 3.13% in the past 24 hours. Watch KOTAK MAHINDRA BANK LTD stock price performance more',\n",
       "  'score': 0.86303437},\n",
       " {'title': 'Kotak Mahindra Bank Share Price',\n",
       "  'url': 'https://economictimes.indiatimes.com/kotak-mahindra-bank-ltd/stocks/companyid-12161.cms',\n",
       "  'content': \"Mr.C Jayaram, Mr.Uday Kotak, Dr.Ashok Gulati, Ms.Ashu Suyash, Mr.Cornelis Petrus Adrianus Joseph Leenaars, Mr.Uday Chander Khanna, Mr.Uday Shankar, Mr.Devang Gheewalla, Mr.Avan Doomasia. It has Price Waterhouse LLP as its auditoRs As on 31-03-2025, the company has a total of 198.82 Crore shares outstanding.Kotak Bank Share Price Today is Rs. 2046.30. On previous day, the Kotak Bank Share Price (NSE) closed at Rs. 2063.6, featuring among the most traded securities on the National Stock Exchange. [...] | NAME | P/E (x) | P/B (x) | ROE % | ROA % | Rev CAGR [3Yr] | OPM | NPM | NIM % | Cost to Income % | Interest income to Earning assets % | Net NPA % | Capital Adequacy Ratio % |\\n| --- | --- | --- | --- | --- | --- | --- | --- | --- | --- | --- | --- | --- |\\n| [Kotak Bank](https://economictimes.indiatimes.com/kotak-mahindra-bank-ltd/stocks/companyid-12161.cms) | 18.39 | 2.58 | 14.04 | 2.51 | 20.18 | 24.25 | 33.69 | 4.25 | 54.96 | 7.46 | 0.31 | 22.25 | [...] After showing 27174.42 Cr. of sales and 13.48% of quarterly net profit, there have been multiple ups and downs in the Kotak Bank stock prices in the past few weeks. For example, Kotak Bank stock price on 27th of May 2025 was around Rs. 2077.4. Kotak Bank share price now stands at an average of Rs. 2046.30. Judging by last week's performance, stock is in down trend.\",\n",
       "  'score': 0.84246206},\n",
       " {'title': 'Kotak Mahindra Bank Share Price Today - Stocks',\n",
       "  'url': 'https://groww.in/stocks/kotak-mahindra-bank-ltd',\n",
       "  'content': '|  |  |\\n| --- | --- |\\n| Market Cap | ₹4,25,193Cr |\\n| ROE | 12.24% |\\n| P/E Ratio(TTM) | 19.22 |\\n| EPS(TTM) | 111.28 |\\n| P/B Ratio | 2.70 |\\n| Dividend Yield | 0.00% |\\n| Industry P/E | 13.80 |\\n| Book Value | 791.62 |\\n| Debt to Equity | NA |\\n| Face Value | 5 |\\n\\n## Financials\\n\\n## About Kotak Mahindra Bank\\n\\n|  |  |\\n| --- | --- |\\n| Parent Organisation | Kotak Mahindra Bank |\\n| Managing Director | Mr. Uday Kotak |\\n\\n|  |  |\\n| --- | --- |\\n| NSE Symbol | KOTAKBANK |\\n\\n## Shareholding Pattern',\n",
       "  'score': 0.767429}]"
      ]
     },
     "execution_count": 15,
     "metadata": {},
     "output_type": "execute_result"
    }
   ],
   "source": [
    "tavily_search.args\n",
    "tavily_search.run({'query': 'What is Stock price of NSE:KOTAKBANK?'})"
   ]
  },
  {
   "cell_type": "code",
   "execution_count": 34,
   "id": "231adee9",
   "metadata": {},
   "outputs": [],
   "source": [
    "from langchain.document_loaders import GoogleDriveLoader\n",
    "from google_auth_oauthlib.flow import InstalledAppFlow\n",
    "from googleapiclient.discovery import build"
   ]
  },
  {
   "cell_type": "code",
   "execution_count": 35,
   "id": "c02586eb",
   "metadata": {},
   "outputs": [],
   "source": [
    "file_id = [\"1aucrY3etlqCMSxYLCPgk8RVEX7CKF7gOcyeDB44oQZQ\"] "
   ]
  },
  {
   "cell_type": "code",
   "execution_count": 42,
   "id": "682a0cf0",
   "metadata": {},
   "outputs": [
    {
     "name": "stdout",
     "output_type": "stream",
     "text": [
      "Please visit this URL to authorize this application: https://accounts.google.com/o/oauth2/auth?response_type=code&client_id=205321969930-tk5n9l4edmdmp1ssbihmd85iqe84k0c9.apps.googleusercontent.com&redirect_uri=http%3A%2F%2Flocalhost%3A55234%2F&scope=https%3A%2F%2Fwww.googleapis.com%2Fauth%2Fdrive.readonly&state=Nl9RoIQAbyiFazYFkkQY9lFWNlE4mY&access_type=offline\n"
     ]
    }
   ],
   "source": [
    "# Define the scopes\n",
    "SCOPES = ['https://www.googleapis.com/auth/drive.readonly']\n",
    "\n",
    "# Authenticate and create the API client\n",
    "flow = InstalledAppFlow.from_client_secrets_file(\n",
    "    \"c:\\\\Users\\\\MSE226\\\\Desktop\\\\Krish_agenticai_prac\\\\credentials.json\", SCOPES)\n",
    "creds = flow.run_local_server(port=0)"
   ]
  },
  {
   "cell_type": "code",
   "execution_count": 48,
   "id": "1a5cf0f3",
   "metadata": {},
   "outputs": [],
   "source": [
    "loader = GoogleDriveLoader(\n",
    "    credentials_path=\"c:\\\\Users\\\\MSE226\\\\Desktop\\\\Krish_agenticai_prac\\\\credentials.json\",\n",
    "    token_path=\"token.json\",\n",
    "    folder_id=\"1lP5vNh1ycU36AKItJZsgPERaz9qvYrVQ\",\n",
    "    # file_ids=[\"1aucrY3etlqCMSxYLCPgk8RVEX7CKF7gOcyeDB44oQZQ\"],\n",
    "    file_types=['application/vnd.google-apps.spreadsheet'],\n",
    "    recursive=True,\n",
    "    show_progress=True\n",
    ")"
   ]
  },
  {
   "cell_type": "code",
   "execution_count": 49,
   "id": "7451dcc2",
   "metadata": {},
   "outputs": [
    {
     "ename": "HttpError",
     "evalue": "<HttpError 429 when requesting https://sheets.googleapis.com/v4/spreadsheets/1IFSv3PZJymgpYUWpIdpuSwBczrn2BkVVJONP6d1n9K0/values/XIRR?alt=json returned \"Quota exceeded for quota metric 'Read requests' and limit 'Read requests per minute per user' of service 'sheets.googleapis.com' for consumer 'project_number:205321969930'.\". Details: \"[{'@type': 'type.googleapis.com/google.rpc.ErrorInfo', 'reason': 'RATE_LIMIT_EXCEEDED', 'domain': 'googleapis.com', 'metadata': {'quota_location': 'global', 'quota_limit': 'ReadRequestsPerMinutePerUser', 'consumer': 'projects/205321969930', 'quota_metric': 'sheets.googleapis.com/read_requests', 'quota_limit_value': '60', 'quota_unit': '1/min/{project}/{user}', 'service': 'sheets.googleapis.com'}}, {'@type': 'type.googleapis.com/google.rpc.Help', 'links': [{'description': 'Request a higher quota limit.', 'url': 'https://cloud.google.com/docs/quotas/help/request_increase'}]}]\">",
     "output_type": "error",
     "traceback": [
      "\u001b[31m---------------------------------------------------------------------------\u001b[39m",
      "\u001b[31mHttpError\u001b[39m                                 Traceback (most recent call last)",
      "\u001b[36mCell\u001b[39m\u001b[36m \u001b[39m\u001b[32mIn[49]\u001b[39m\u001b[32m, line 1\u001b[39m\n\u001b[32m----> \u001b[39m\u001b[32m1\u001b[39m docs = \u001b[43mloader\u001b[49m\u001b[43m.\u001b[49m\u001b[43mload\u001b[49m\u001b[43m(\u001b[49m\u001b[43m)\u001b[49m\n",
      "\u001b[36mFile \u001b[39m\u001b[32mc:\\Users\\MSE226\\Desktop\\Krish_agenticai_prac\\.venv\\Lib\\site-packages\\langchain_community\\document_loaders\\googledrive.py:367\u001b[39m, in \u001b[36mGoogleDriveLoader.load\u001b[39m\u001b[34m(self)\u001b[39m\n\u001b[32m    365\u001b[39m \u001b[38;5;250m\u001b[39m\u001b[33;03m\"\"\"Load documents.\"\"\"\u001b[39;00m\n\u001b[32m    366\u001b[39m \u001b[38;5;28;01mif\u001b[39;00m \u001b[38;5;28mself\u001b[39m.folder_id:\n\u001b[32m--> \u001b[39m\u001b[32m367\u001b[39m     \u001b[38;5;28;01mreturn\u001b[39;00m \u001b[38;5;28;43mself\u001b[39;49m\u001b[43m.\u001b[49m\u001b[43m_load_documents_from_folder\u001b[49m\u001b[43m(\u001b[49m\n\u001b[32m    368\u001b[39m \u001b[43m        \u001b[49m\u001b[38;5;28;43mself\u001b[39;49m\u001b[43m.\u001b[49m\u001b[43mfolder_id\u001b[49m\u001b[43m,\u001b[49m\u001b[43m \u001b[49m\u001b[43mfile_types\u001b[49m\u001b[43m=\u001b[49m\u001b[38;5;28;43mself\u001b[39;49m\u001b[43m.\u001b[49m\u001b[43mfile_types\u001b[49m\n\u001b[32m    369\u001b[39m \u001b[43m    \u001b[49m\u001b[43m)\u001b[49m\n\u001b[32m    370\u001b[39m \u001b[38;5;28;01melif\u001b[39;00m \u001b[38;5;28mself\u001b[39m.document_ids:\n\u001b[32m    371\u001b[39m     \u001b[38;5;28;01mreturn\u001b[39;00m \u001b[38;5;28mself\u001b[39m._load_documents_from_ids()\n",
      "\u001b[36mFile \u001b[39m\u001b[32mc:\\Users\\MSE226\\Desktop\\Krish_agenticai_prac\\.venv\\Lib\\site-packages\\langchain_community\\document_loaders\\googledrive.py:266\u001b[39m, in \u001b[36mGoogleDriveLoader._load_documents_from_folder\u001b[39m\u001b[34m(self, folder_id, file_types)\u001b[39m\n\u001b[32m    264\u001b[39m     returns.append(\u001b[38;5;28mself\u001b[39m._load_document_from_id(file[\u001b[33m\"\u001b[39m\u001b[33mid\u001b[39m\u001b[33m\"\u001b[39m]))  \u001b[38;5;66;03m# type: ignore[arg-type]\u001b[39;00m\n\u001b[32m    265\u001b[39m \u001b[38;5;28;01melif\u001b[39;00m file[\u001b[33m\"\u001b[39m\u001b[33mmimeType\u001b[39m\u001b[33m\"\u001b[39m] == \u001b[33m\"\u001b[39m\u001b[33mapplication/vnd.google-apps.spreadsheet\u001b[39m\u001b[33m\"\u001b[39m:\n\u001b[32m--> \u001b[39m\u001b[32m266\u001b[39m     returns.extend(\u001b[38;5;28;43mself\u001b[39;49m\u001b[43m.\u001b[49m\u001b[43m_load_sheet_from_id\u001b[49m\u001b[43m(\u001b[49m\u001b[43mfile\u001b[49m\u001b[43m[\u001b[49m\u001b[33;43m\"\u001b[39;49m\u001b[33;43mid\u001b[39;49m\u001b[33;43m\"\u001b[39;49m\u001b[43m]\u001b[49m\u001b[43m)\u001b[49m)  \u001b[38;5;66;03m# type: ignore[arg-type]\u001b[39;00m\n\u001b[32m    267\u001b[39m \u001b[38;5;28;01melif\u001b[39;00m (\n\u001b[32m    268\u001b[39m     file[\u001b[33m\"\u001b[39m\u001b[33mmimeType\u001b[39m\u001b[33m\"\u001b[39m] == \u001b[33m\"\u001b[39m\u001b[33mapplication/pdf\u001b[39m\u001b[33m\"\u001b[39m\n\u001b[32m    269\u001b[39m     \u001b[38;5;129;01mor\u001b[39;00m \u001b[38;5;28mself\u001b[39m.file_loader_cls \u001b[38;5;129;01mis\u001b[39;00m \u001b[38;5;129;01mnot\u001b[39;00m \u001b[38;5;28;01mNone\u001b[39;00m\n\u001b[32m    270\u001b[39m ):\n\u001b[32m    271\u001b[39m     returns.extend(\u001b[38;5;28mself\u001b[39m._load_file_from_id(file[\u001b[33m\"\u001b[39m\u001b[33mid\u001b[39m\u001b[33m\"\u001b[39m]))  \u001b[38;5;66;03m# type: ignore[arg-type]\u001b[39;00m\n",
      "\u001b[36mFile \u001b[39m\u001b[32mc:\\Users\\MSE226\\Desktop\\Krish_agenticai_prac\\.venv\\Lib\\site-packages\\langchain_community\\document_loaders\\googledrive.py:180\u001b[39m, in \u001b[36mGoogleDriveLoader._load_sheet_from_id\u001b[39m\u001b[34m(self, id)\u001b[39m\n\u001b[32m    174\u001b[39m \u001b[38;5;28;01mfor\u001b[39;00m sheet \u001b[38;5;129;01min\u001b[39;00m sheets:\n\u001b[32m    175\u001b[39m     sheet_name = sheet[\u001b[33m\"\u001b[39m\u001b[33mproperties\u001b[39m\u001b[33m\"\u001b[39m][\u001b[33m\"\u001b[39m\u001b[33mtitle\u001b[39m\u001b[33m\"\u001b[39m]\n\u001b[32m    176\u001b[39m     result = (\n\u001b[32m    177\u001b[39m         \u001b[43msheets_service\u001b[49m\u001b[43m.\u001b[49m\u001b[43mspreadsheets\u001b[49m\u001b[43m(\u001b[49m\u001b[43m)\u001b[49m\n\u001b[32m    178\u001b[39m \u001b[43m        \u001b[49m\u001b[43m.\u001b[49m\u001b[43mvalues\u001b[49m\u001b[43m(\u001b[49m\u001b[43m)\u001b[49m\n\u001b[32m    179\u001b[39m \u001b[43m        \u001b[49m\u001b[43m.\u001b[49m\u001b[43mget\u001b[49m\u001b[43m(\u001b[49m\u001b[43mspreadsheetId\u001b[49m\u001b[43m=\u001b[49m\u001b[38;5;28;43mid\u001b[39;49m\u001b[43m,\u001b[49m\u001b[43m \u001b[49m\u001b[38;5;28;43mrange\u001b[39;49m\u001b[43m=\u001b[49m\u001b[43msheet_name\u001b[49m\u001b[43m)\u001b[49m\n\u001b[32m--> \u001b[39m\u001b[32m180\u001b[39m \u001b[43m        \u001b[49m\u001b[43m.\u001b[49m\u001b[43mexecute\u001b[49m\u001b[43m(\u001b[49m\u001b[43m)\u001b[49m\n\u001b[32m    181\u001b[39m     )\n\u001b[32m    182\u001b[39m     values = result.get(\u001b[33m\"\u001b[39m\u001b[33mvalues\u001b[39m\u001b[33m\"\u001b[39m, [])\n\u001b[32m    183\u001b[39m     \u001b[38;5;28;01mif\u001b[39;00m \u001b[38;5;129;01mnot\u001b[39;00m values:\n",
      "\u001b[36mFile \u001b[39m\u001b[32mc:\\Users\\MSE226\\Desktop\\Krish_agenticai_prac\\.venv\\Lib\\site-packages\\googleapiclient\\_helpers.py:130\u001b[39m, in \u001b[36mpositional.<locals>.positional_decorator.<locals>.positional_wrapper\u001b[39m\u001b[34m(*args, **kwargs)\u001b[39m\n\u001b[32m    128\u001b[39m     \u001b[38;5;28;01melif\u001b[39;00m positional_parameters_enforcement == POSITIONAL_WARNING:\n\u001b[32m    129\u001b[39m         logger.warning(message)\n\u001b[32m--> \u001b[39m\u001b[32m130\u001b[39m \u001b[38;5;28;01mreturn\u001b[39;00m \u001b[43mwrapped\u001b[49m\u001b[43m(\u001b[49m\u001b[43m*\u001b[49m\u001b[43margs\u001b[49m\u001b[43m,\u001b[49m\u001b[43m \u001b[49m\u001b[43m*\u001b[49m\u001b[43m*\u001b[49m\u001b[43mkwargs\u001b[49m\u001b[43m)\u001b[49m\n",
      "\u001b[36mFile \u001b[39m\u001b[32mc:\\Users\\MSE226\\Desktop\\Krish_agenticai_prac\\.venv\\Lib\\site-packages\\googleapiclient\\http.py:938\u001b[39m, in \u001b[36mHttpRequest.execute\u001b[39m\u001b[34m(self, http, num_retries)\u001b[39m\n\u001b[32m    936\u001b[39m     callback(resp)\n\u001b[32m    937\u001b[39m \u001b[38;5;28;01mif\u001b[39;00m resp.status >= \u001b[32m300\u001b[39m:\n\u001b[32m--> \u001b[39m\u001b[32m938\u001b[39m     \u001b[38;5;28;01mraise\u001b[39;00m HttpError(resp, content, uri=\u001b[38;5;28mself\u001b[39m.uri)\n\u001b[32m    939\u001b[39m \u001b[38;5;28;01mreturn\u001b[39;00m \u001b[38;5;28mself\u001b[39m.postproc(resp, content)\n",
      "\u001b[31mHttpError\u001b[39m: <HttpError 429 when requesting https://sheets.googleapis.com/v4/spreadsheets/1IFSv3PZJymgpYUWpIdpuSwBczrn2BkVVJONP6d1n9K0/values/XIRR?alt=json returned \"Quota exceeded for quota metric 'Read requests' and limit 'Read requests per minute per user' of service 'sheets.googleapis.com' for consumer 'project_number:205321969930'.\". Details: \"[{'@type': 'type.googleapis.com/google.rpc.ErrorInfo', 'reason': 'RATE_LIMIT_EXCEEDED', 'domain': 'googleapis.com', 'metadata': {'quota_location': 'global', 'quota_limit': 'ReadRequestsPerMinutePerUser', 'consumer': 'projects/205321969930', 'quota_metric': 'sheets.googleapis.com/read_requests', 'quota_limit_value': '60', 'quota_unit': '1/min/{project}/{user}', 'service': 'sheets.googleapis.com'}}, {'@type': 'type.googleapis.com/google.rpc.Help', 'links': [{'description': 'Request a higher quota limit.', 'url': 'https://cloud.google.com/docs/quotas/help/request_increase'}]}]\">"
     ]
    }
   ],
   "source": [
    "docs = loader.load()"
   ]
  },
  {
   "cell_type": "code",
   "execution_count": 39,
   "id": "65aa51e5",
   "metadata": {},
   "outputs": [
    {
     "name": "stdout",
     "output_type": "stream",
     "text": [
      "[]\n"
     ]
    }
   ],
   "source": [
    "print(docs)"
   ]
  },
  {
   "cell_type": "code",
   "execution_count": 51,
   "id": "32f357ca",
   "metadata": {},
   "outputs": [],
   "source": [
    "from langchain.agents import tool"
   ]
  },
  {
   "cell_type": "code",
   "execution_count": 52,
   "id": "404831c3",
   "metadata": {},
   "outputs": [],
   "source": [
    "@tool\n",
    "def multiply_numbers(a: int, b: int) -> int:\n",
    "    \"\"\"Multiplies two numbers.\"\"\"\n",
    "    return a * b"
   ]
  },
  {
   "cell_type": "code",
   "execution_count": 57,
   "id": "890064b3",
   "metadata": {},
   "outputs": [
    {
     "data": {
      "text/plain": [
       "12"
      ]
     },
     "execution_count": 57,
     "metadata": {},
     "output_type": "execute_result"
    }
   ],
   "source": [
    "multiply_numbers.invoke({\"a\":3, \"b\":4})  # Example usage of the tool"
   ]
  },
  {
   "cell_type": "code",
   "execution_count": 58,
   "id": "d1418bfa",
   "metadata": {},
   "outputs": [
    {
     "data": {
      "text/plain": [
       "{'a': {'title': 'A', 'type': 'integer'},\n",
       " 'b': {'title': 'B', 'type': 'integer'}}"
      ]
     },
     "execution_count": 58,
     "metadata": {},
     "output_type": "execute_result"
    }
   ],
   "source": [
    "multiply_numbers.args"
   ]
  },
  {
   "cell_type": "code",
   "execution_count": 59,
   "id": "41258e10",
   "metadata": {},
   "outputs": [
    {
     "data": {
      "text/plain": [
       "'Multiplies two numbers.'"
      ]
     },
     "execution_count": 59,
     "metadata": {},
     "output_type": "execute_result"
    }
   ],
   "source": [
    "multiply_numbers.description"
   ]
  },
  {
   "cell_type": "code",
   "execution_count": 60,
   "id": "83c84ec0",
   "metadata": {},
   "outputs": [],
   "source": [
    "@tool\n",
    "def get_word_length(word: str) -> int:\n",
    "    \"\"\"Returns the length of the given word.\"\"\"\n",
    "    return len(word)"
   ]
  },
  {
   "cell_type": "code",
   "execution_count": 61,
   "id": "16815685",
   "metadata": {},
   "outputs": [
    {
     "data": {
      "text/plain": [
       "5"
      ]
     },
     "execution_count": 61,
     "metadata": {},
     "output_type": "execute_result"
    }
   ],
   "source": [
    "get_word_length.invoke({\"word\": \"hello\"})  # Example usage of the tool"
   ]
  },
  {
   "cell_type": "code",
   "execution_count": 64,
   "id": "d5430778",
   "metadata": {},
   "outputs": [
    {
     "data": {
      "text/plain": [
       "{'word': {'title': 'Word', 'type': 'string'}}"
      ]
     },
     "execution_count": 64,
     "metadata": {},
     "output_type": "execute_result"
    }
   ],
   "source": [
    "get_word_length.args\n",
    "# get_word_length.description"
   ]
  },
  {
   "cell_type": "code",
   "execution_count": 62,
   "id": "93cc2731",
   "metadata": {},
   "outputs": [
    {
     "data": {
      "text/plain": [
       "23"
      ]
     },
     "execution_count": 62,
     "metadata": {},
     "output_type": "execute_result"
    }
   ],
   "source": [
    "get_word_length.invoke(\"Mukesh Kumar Jain Sethi\")  # Example usage of the tool"
   ]
  },
  {
   "cell_type": "code",
   "execution_count": 72,
   "id": "c47aa714",
   "metadata": {},
   "outputs": [],
   "source": [
    "def function_1(input1):\n",
    "    \"\"\"This function takes an input and returns it.\"\"\"\n",
    "    return input1 + ' ' +  \"from the First Function\""
   ]
  },
  {
   "cell_type": "code",
   "execution_count": 75,
   "id": "6f22ac02",
   "metadata": {},
   "outputs": [],
   "source": [
    "def function_2(input2):\n",
    "    \"\"\"This function takes an input and returns it.\"\"\"\n",
    "    return input2 + ' ' + \"from the Second Function\""
   ]
  },
  {
   "cell_type": "code",
   "execution_count": 106,
   "id": "a2290c67",
   "metadata": {},
   "outputs": [],
   "source": [
    "def function_3(input3):\n",
    "    \"\"\"This function takes an input and returns it.\"\"\"\n",
    "    return input3 + ' ' + \"from the Third Function\""
   ]
  },
  {
   "cell_type": "code",
   "execution_count": 107,
   "id": "68b4b75f",
   "metadata": {},
   "outputs": [
    {
     "data": {
      "text/plain": [
       "'Mukesh from the First Function'"
      ]
     },
     "execution_count": 107,
     "metadata": {},
     "output_type": "execute_result"
    }
   ],
   "source": [
    "function_1('Mukesh')"
   ]
  },
  {
   "cell_type": "code",
   "execution_count": 108,
   "id": "97e1c85e",
   "metadata": {},
   "outputs": [
    {
     "data": {
      "text/plain": [
       "'Mukesh from the Second Function'"
      ]
     },
     "execution_count": 108,
     "metadata": {},
     "output_type": "execute_result"
    }
   ],
   "source": [
    "function_2('Mukesh')"
   ]
  },
  {
   "cell_type": "code",
   "execution_count": 109,
   "id": "92401297",
   "metadata": {},
   "outputs": [],
   "source": [
    "from langgraph.graph import  Graph"
   ]
  },
  {
   "cell_type": "code",
   "execution_count": 110,
   "id": "5d517e0e",
   "metadata": {},
   "outputs": [],
   "source": [
    "workflow1 = Graph()"
   ]
  },
  {
   "cell_type": "code",
   "execution_count": 111,
   "id": "912cbeee",
   "metadata": {},
   "outputs": [
    {
     "data": {
      "text/plain": [
       "<langgraph.graph.graph.Graph at 0x1b693b761d0>"
      ]
     },
     "execution_count": 111,
     "metadata": {},
     "output_type": "execute_result"
    }
   ],
   "source": [
    "workflow1.add_node(\"func1\",function_1)\n"
   ]
  },
  {
   "cell_type": "code",
   "execution_count": 112,
   "id": "f379612b",
   "metadata": {},
   "outputs": [
    {
     "data": {
      "text/plain": [
       "<langgraph.graph.graph.Graph at 0x1b693b761d0>"
      ]
     },
     "execution_count": 112,
     "metadata": {},
     "output_type": "execute_result"
    }
   ],
   "source": [
    "workflow1.add_node(\"func2\",function_2)\n"
   ]
  },
  {
   "cell_type": "code",
   "execution_count": 113,
   "id": "d8904f57",
   "metadata": {},
   "outputs": [
    {
     "data": {
      "text/plain": [
       "<langgraph.graph.graph.Graph at 0x1b693b761d0>"
      ]
     },
     "execution_count": 113,
     "metadata": {},
     "output_type": "execute_result"
    }
   ],
   "source": [
    "workflow1.add_node(\"func3\",function_3)"
   ]
  },
  {
   "cell_type": "code",
   "execution_count": 114,
   "id": "2d5e4baa",
   "metadata": {},
   "outputs": [
    {
     "data": {
      "text/plain": [
       "<langgraph.graph.graph.Graph at 0x1b693b761d0>"
      ]
     },
     "execution_count": 114,
     "metadata": {},
     "output_type": "execute_result"
    }
   ],
   "source": [
    "workflow1.add_edge(\"func1\", \"func2\")\n",
    "workflow1.add_edge(\"func2\", \"func3\")"
   ]
  },
  {
   "cell_type": "code",
   "execution_count": 115,
   "id": "47439c67",
   "metadata": {},
   "outputs": [
    {
     "data": {
      "text/plain": [
       "<langgraph.graph.graph.Graph at 0x1b693b761d0>"
      ]
     },
     "execution_count": 115,
     "metadata": {},
     "output_type": "execute_result"
    }
   ],
   "source": [
    "workflow1.set_entry_point(\"func1\")"
   ]
  },
  {
   "cell_type": "code",
   "execution_count": 116,
   "id": "4226d7a7",
   "metadata": {},
   "outputs": [
    {
     "data": {
      "text/plain": [
       "<langgraph.graph.graph.Graph at 0x1b693b761d0>"
      ]
     },
     "execution_count": 116,
     "metadata": {},
     "output_type": "execute_result"
    }
   ],
   "source": [
    "workflow1.set_finish_point(\"func3\")"
   ]
  },
  {
   "cell_type": "code",
   "execution_count": 117,
   "id": "2644b34e",
   "metadata": {},
   "outputs": [],
   "source": [
    "app = workflow1.compile()\n"
   ]
  },
  {
   "cell_type": "code",
   "execution_count": 118,
   "id": "e1d89196",
   "metadata": {},
   "outputs": [],
   "source": [
    "from IPython.display import display, Image"
   ]
  },
  {
   "cell_type": "code",
   "execution_count": 119,
   "id": "30e314bf",
   "metadata": {},
   "outputs": [
    {
     "data": {
      "image/png": "[encoded data removed]",
      "text/plain": [
       "<IPython.core.display.Image object>"
      ]
     },
     "metadata": {
      "image/png": {
       "height": 600,
       "width": 200
      }
     },
     "output_type": "display_data"
    }
   ],
   "source": [
    "display(Image(app.get_graph().draw_mermaid_png(), width=200, height=600))"
   ]
  },
  {
   "cell_type": "code",
   "execution_count": 120,
   "id": "e363ae96",
   "metadata": {},
   "outputs": [
    {
     "data": {
      "text/plain": [
       "'Hello from the First Function from the Second Function from the Third Function'"
      ]
     },
     "execution_count": 120,
     "metadata": {},
     "output_type": "execute_result"
    }
   ],
   "source": [
    "app.invoke(\"Hello\")"
   ]
  },
  {
   "cell_type": "code",
   "execution_count": 121,
   "id": "f031c1ca",
   "metadata": {},
   "outputs": [
    {
     "data": {
      "text/plain": [
       "'hi this is sunny from the First Function from the Second Function from the Third Function'"
      ]
     },
     "execution_count": 121,
     "metadata": {},
     "output_type": "execute_result"
    }
   ],
   "source": [
    "app.invoke(\"hi this is sunny\")"
   ]
  },
  {
   "cell_type": "code",
   "execution_count": 122,
   "id": "773585ac",
   "metadata": {},
   "outputs": [
    {
     "name": "stdout",
     "output_type": "stream",
     "text": [
      "here is output from func1\n",
      "_______\n",
      "hi this is rohit from the First Function\n",
      "\n",
      "\n",
      "here is output from func2\n",
      "_______\n",
      "hi this is rohit from the First Function from the Second Function\n",
      "\n",
      "\n",
      "here is output from func3\n",
      "_______\n",
      "hi this is rohit from the First Function from the Second Function from the Third Function\n",
      "\n",
      "\n"
     ]
    }
   ],
   "source": [
    "for output in app.stream(\"hi this is rohit\"):\n",
    "    for key,value in output.items():\n",
    "        print(f\"here is output from {key}\")\n",
    "        print(\"_______\")\n",
    "        print(value)\n",
    "        print(\"\\n\")\n",
    "    "
   ]
  },
  {
   "cell_type": "code",
   "execution_count": 129,
   "id": "39edf8c9",
   "metadata": {},
   "outputs": [
    {
     "data": {
      "text/plain": [
       "True"
      ]
     },
     "execution_count": 129,
     "metadata": {},
     "output_type": "execute_result"
    }
   ],
   "source": [
    "import os\n",
    "from dotenv import load_dotenv\n",
    "load_dotenv()"
   ]
  },
  {
   "cell_type": "code",
   "execution_count": 130,
   "id": "bc201b14",
   "metadata": {},
   "outputs": [],
   "source": [
    "os.environ['GOOGLE_API_KEY']=os.getenv(\"GOOGLE_API_KEY\")"
   ]
  },
  {
   "cell_type": "code",
   "execution_count": 131,
   "id": "bd7abb72",
   "metadata": {},
   "outputs": [],
   "source": [
    "from langchain_google_genai import ChatGoogleGenerativeAI\n",
    "model=ChatGoogleGenerativeAI(model='gemini-1.5-flash')"
   ]
  },
  {
   "cell_type": "code",
   "execution_count": 132,
   "id": "ae35f6d1",
   "metadata": {},
   "outputs": [
    {
     "data": {
      "text/plain": [
       "'Hi there! How can I help you today?'"
      ]
     },
     "execution_count": 132,
     "metadata": {},
     "output_type": "execute_result"
    }
   ],
   "source": [
    "model.invoke(\"hi\").content"
   ]
  },
  {
   "cell_type": "code",
   "execution_count": 133,
   "id": "10f3cd97",
   "metadata": {},
   "outputs": [],
   "source": [
    "def llm(input):\n",
    "    \"\"\"This function takes an input and returns it.\"\"\"\n",
    "    from langchain_google_genai import ChatGoogleGenerativeAI\n",
    "    model=ChatGoogleGenerativeAI(model='gemini-1.5-flash')\n",
    "    return model.invoke(input).content"
   ]
  },
  {
   "cell_type": "code",
   "execution_count": 134,
   "id": "bd9a65ab",
   "metadata": {},
   "outputs": [],
   "source": [
    "def token_counter(input):\n",
    "    token=input.split()\n",
    "    token_number=len(token)\n",
    "    return f\"total token number in the generated answer is {token_number}\""
   ]
  },
  {
   "cell_type": "code",
   "execution_count": 135,
   "id": "0a72dd2e",
   "metadata": {},
   "outputs": [],
   "source": [
    "workflow2=Graph()"
   ]
  },
  {
   "cell_type": "code",
   "execution_count": 136,
   "id": "654a26a8",
   "metadata": {},
   "outputs": [
    {
     "data": {
      "text/plain": [
       "<langgraph.graph.graph.Graph at 0x1b6837b21d0>"
      ]
     },
     "execution_count": 136,
     "metadata": {},
     "output_type": "execute_result"
    }
   ],
   "source": [
    "workflow2.add_node(\"My_LLM\",llm)"
   ]
  },
  {
   "cell_type": "code",
   "execution_count": 137,
   "id": "532bd92a",
   "metadata": {},
   "outputs": [
    {
     "data": {
      "text/plain": [
       "<langgraph.graph.graph.Graph at 0x1b6837b21d0>"
      ]
     },
     "execution_count": 137,
     "metadata": {},
     "output_type": "execute_result"
    }
   ],
   "source": [
    "workflow2.add_node(\"count_token\",token_counter)"
   ]
  },
  {
   "cell_type": "code",
   "execution_count": 138,
   "id": "73b3dc43",
   "metadata": {},
   "outputs": [
    {
     "data": {
      "text/plain": [
       "<langgraph.graph.graph.Graph at 0x1b6837b21d0>"
      ]
     },
     "execution_count": 138,
     "metadata": {},
     "output_type": "execute_result"
    }
   ],
   "source": [
    "workflow2.add_edge(\"My_LLM\",\"count_token\")"
   ]
  },
  {
   "cell_type": "code",
   "execution_count": 139,
   "id": "3921214e",
   "metadata": {},
   "outputs": [
    {
     "data": {
      "text/plain": [
       "<langgraph.graph.graph.Graph at 0x1b6837b21d0>"
      ]
     },
     "execution_count": 139,
     "metadata": {},
     "output_type": "execute_result"
    }
   ],
   "source": [
    "workflow2.set_entry_point(\"My_LLM\")"
   ]
  },
  {
   "cell_type": "code",
   "execution_count": 140,
   "id": "9dc1bace",
   "metadata": {},
   "outputs": [
    {
     "data": {
      "text/plain": [
       "<langgraph.graph.graph.Graph at 0x1b6837b21d0>"
      ]
     },
     "execution_count": 140,
     "metadata": {},
     "output_type": "execute_result"
    }
   ],
   "source": [
    "workflow2.set_finish_point(\"count_token\")"
   ]
  },
  {
   "cell_type": "code",
   "execution_count": 141,
   "id": "175e08f9",
   "metadata": {},
   "outputs": [],
   "source": [
    "app=workflow2.compile()"
   ]
  },
  {
   "cell_type": "code",
   "execution_count": 142,
   "id": "4f7a2617",
   "metadata": {},
   "outputs": [
    {
     "data": {
      "image/png": "[encoded data removed]",
      "text/plain": [
       "<IPython.core.display.Image object>"
      ]
     },
     "metadata": {},
     "output_type": "display_data"
    }
   ],
   "source": [
    "display(Image(app.get_graph().draw_mermaid_png()))"
   ]
  },
  {
   "cell_type": "code",
   "execution_count": 146,
   "id": "823b8b0a",
   "metadata": {},
   "outputs": [
    {
     "data": {
      "text/plain": [
       "'total token number in the generated answer is 83'"
      ]
     },
     "execution_count": 146,
     "metadata": {},
     "output_type": "execute_result"
    }
   ],
   "source": [
    "app.invoke(\"can you tell me about the india's capital?\")"
   ]
  },
  {
   "cell_type": "code",
   "execution_count": 147,
   "id": "b05fb6bd",
   "metadata": {},
   "outputs": [
    {
     "name": "stdout",
     "output_type": "stream",
     "text": [
      "here is output from My_LLM\n",
      "_______\n",
      "India's capital is **New Delhi**.  It's important to note that while New Delhi is the capital, it's actually a part of a larger metropolitan area called Delhi.  Delhi is a union territory, meaning it's directly governed by the central government, unlike the states of India.  New Delhi itself is the seat of the national government, housing Parliament, the President's residence, and numerous other important government buildings and ministries.\n",
      "\n",
      "\n",
      "here is output from count_token\n",
      "_______\n",
      "total token number in the generated answer is 68\n",
      "\n",
      "\n"
     ]
    }
   ],
   "source": [
    "for output in app.stream(\"can you tell me about the india's capital?\"):\n",
    "    for key,value in output.items():\n",
    "        print(f\"here is output from {key}\")\n",
    "        print(\"_______\")\n",
    "        print(value)\n",
    "        print(\"\\n\")"
   ]
  },
  {
   "cell_type": "code",
   "execution_count": 148,
   "id": "af96b990",
   "metadata": {},
   "outputs": [
    {
     "ename": "NameError",
     "evalue": "name 'test' is not defined",
     "output_type": "error",
     "traceback": [
      "\u001b[31m---------------------------------------------------------------------------\u001b[39m",
      "\u001b[31mNameError\u001b[39m                                 Traceback (most recent call last)",
      "\u001b[36mCell\u001b[39m\u001b[36m \u001b[39m\u001b[32mIn[148]\u001b[39m\u001b[32m, line 1\u001b[39m\n\u001b[32m----> \u001b[39m\u001b[32m1\u001b[39m \u001b[43mtest\u001b[49m\n",
      "\u001b[31mNameError\u001b[39m: name 'test' is not defined"
     ]
    }
   ],
   "source": [
    "test"
   ]
  },
  {
   "cell_type": "code",
   "execution_count": null,
   "id": "c7e6dfd5",
   "metadata": {},
   "outputs": [],
   "source": []
  },
  {
   "cell_type": "code",
   "execution_count": null,
   "id": "e94e037a",
   "metadata": {},
   "outputs": [],
   "source": []
  },
  {
   "cell_type": "code",
   "execution_count": null,
   "id": "dc075c46",
   "metadata": {},
   "outputs": [],
   "source": []
  }
 ],
 "metadata": {
  "kernelspec": {
   "display_name": ".venv",
   "language": "python",
   "name": "python3"
  },
  "language_info": {
   "codemirror_mode": {
    "name": "ipython",
    "version": 3
   },
   "file_extension": ".py",
   "mimetype": "text/x-python",
   "name": "python",
   "nbconvert_exporter": "python",
   "pygments_lexer": "ipython3",
   "version": "3.11.9"
  }
 },
 "nbformat": 4,
 "nbformat_minor": 5
}
